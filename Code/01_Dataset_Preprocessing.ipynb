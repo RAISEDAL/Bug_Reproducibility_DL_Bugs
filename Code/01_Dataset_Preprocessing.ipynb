{
 "cells": [
  {
   "cell_type": "code",
   "execution_count": 1,
   "metadata": {},
   "outputs": [],
   "source": [
    "import pandas as pd\n",
    "import numpy as np"
   ]
  },
  {
   "cell_type": "code",
   "execution_count": 16,
   "metadata": {},
   "outputs": [
    {
     "name": "stdout",
     "output_type": "stream",
     "text": [
      "Total posts: 46771\n"
     ]
    }
   ],
   "source": [
    "df = pd.read_csv('../Dataset/SO_KerasTFPyTorch.csv')\n",
    "print (\"Total posts: \" + str(len(df.index)))"
   ]
  },
  {
   "cell_type": "code",
   "execution_count": 17,
   "metadata": {},
   "outputs": [],
   "source": [
    "keras_df = pd.DataFrame(columns=df.columns)\n",
    "tensorflow_df = pd.DataFrame(columns=df.columns)\n",
    "pytorch_df = pd.DataFrame(columns=df.columns)\n",
    "\n",
    "for index, row in df.iterrows():\n",
    "    if \"<pytorch>\" in row[\"Tags\"]:\n",
    "        pytorch_df = pd.concat([pytorch_df, row.to_frame().T])\n",
    "    elif \"<keras>\" in row[\"Tags\"]:\n",
    "        keras_df = pd.concat([keras_df, row.to_frame().T])\n",
    "    elif \"<tensorflow>\" in row[\"Tags\"]:\n",
    "        tensorflow_df = pd.concat([tensorflow_df, row.to_frame().T])"
   ]
  },
  {
   "cell_type": "code",
   "execution_count": 18,
   "metadata": {},
   "outputs": [
    {
     "name": "stdout",
     "output_type": "stream",
     "text": [
      "Tensorflow posts: 15419, Keras posts: 16226, PyTorch posts: 15126\n"
     ]
    }
   ],
   "source": [
    "print (\"Tensorflow posts: {}, Keras posts: {}, PyTorch posts: {}\".format(tensorflow_df.shape[0], keras_df.shape[0], pytorch_df.shape[0]))"
   ]
  },
  {
   "cell_type": "code",
   "execution_count": 20,
   "metadata": {},
   "outputs": [
    {
     "name": "stdout",
     "output_type": "stream",
     "text": [
      "Sampled # of posts for Keras: 385, Tensorflow: 385, and PyTorch: 385\n"
     ]
    }
   ],
   "source": [
    "keras_n = int(np.ceil((1.96**2 * 0.5**2) / (0.05**2)) )\n",
    "tensorflow_n = int(np.ceil((1.96**2 * 0.5**2) / (0.05**2)))\n",
    "pytorch_n = int(np.ceil((1.96**2 * 0.5**2) / (0.05**2)))\n",
    "\n",
    "print (\"Sampled # of posts for Keras: {}, Tensorflow: {}, and PyTorch: {}\".format(keras_n, tensorflow_n, pytorch_n))\n",
    "\n",
    "sampled_keras_df = keras_df.sort_values(by=\"Score\", ascending=False).head(keras_n)\n",
    "sampled_tensorflow_df = tensorflow_df.sort_values(by=\"Score\", ascending=False).head(tensorflow_n)\n",
    "sampled_pytorch_df = pytorch_df.sort_values(by=\"Score\", ascending=False).head(pytorch_n)"
   ]
  },
  {
   "cell_type": "code",
   "execution_count": 22,
   "metadata": {},
   "outputs": [],
   "source": [
    "keras_df.to_csv('../Dataset/SO_Keras.csv', index=False)\n",
    "tensorflow_df.to_csv('../Dataset/SO_Tensorflow.csv', index=False)\n",
    "pytorch_df.to_csv('../Dataset/SO_PyTorch.csv', index=False)\n",
    "\n",
    "sampled_keras_df.to_csv('../Dataset/SO_Keras_Sampled.csv', index=False)\n",
    "sampled_tensorflow_df.to_csv('../Dataset/SO_Tensorflow_Sampled.csv', index=False)\n",
    "sampled_pytorch_df.to_csv('../Dataset/SO_PyTorch_Sampled.csv', index=False)"
   ]
  },
  {
   "cell_type": "code",
   "execution_count": 21,
   "metadata": {},
   "outputs": [],
   "source": [
    "# Get PostLinks for Keras\n",
    "keras_post_ids = sampled_keras_df[\"Id\"].tolist()\n",
    "keras_post_ids = [\"https://stackoverflow.com/questions/\" + str(x) for x in keras_post_ids]\n",
    "\n",
    "tensorflow_post_ids = sampled_tensorflow_df[\"Id\"].tolist()\n",
    "tensorflow_post_ids = [\"https://stackoverflow.com/questions/\" + str(x) for x in tensorflow_post_ids]\n",
    "\n",
    "pytorch_post_ids = sampled_pytorch_df[\"Id\"].tolist()\n",
    "pytorch_post_ids = [\"https://stackoverflow.com/questions/\" + str(x) for x in pytorch_post_ids]"
   ]
  },
  {
   "cell_type": "code",
   "execution_count": 23,
   "metadata": {},
   "outputs": [],
   "source": [
    "# Add a line break between keras post ids and tensorflow post ids\n",
    "keras_post_ids.append(\"-----\")\n",
    "keras_post_ids.extend(tensorflow_post_ids)\n",
    "\n",
    "# Add a line break between tensorflow post ids and pytorch post ids\n",
    "keras_post_ids.append(\"-----\")\n",
    "keras_post_ids.extend(pytorch_post_ids)"
   ]
  },
  {
   "cell_type": "code",
   "execution_count": 25,
   "metadata": {},
   "outputs": [],
   "source": [
    "with open('../Dataset/PostLinks.txt', 'w') as f:\n",
    "    for item in keras_post_ids:\n",
    "        f.write(\"%s\\n\" % item)"
   ]
  },
  {
   "cell_type": "code",
   "execution_count": null,
   "metadata": {},
   "outputs": [],
   "source": []
  }
 ],
 "metadata": {
  "kernelspec": {
   "display_name": "venv",
   "language": "python",
   "name": "python3"
  },
  "language_info": {
   "codemirror_mode": {
    "name": "ipython",
    "version": 3
   },
   "file_extension": ".py",
   "mimetype": "text/x-python",
   "name": "python",
   "nbconvert_exporter": "python",
   "pygments_lexer": "ipython3",
   "version": "3.10.4"
  },
  "orig_nbformat": 4
 },
 "nbformat": 4,
 "nbformat_minor": 2
}
