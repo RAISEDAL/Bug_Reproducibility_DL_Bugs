{
 "cells": [
  {
   "cell_type": "code",
   "execution_count": 41,
   "metadata": {},
   "outputs": [],
   "source": [
    "import pandas as pd\n",
    "import warnings\n",
    "from apyori import apriori\n",
    "warnings.filterwarnings('ignore')"
   ]
  },
  {
   "cell_type": "code",
   "execution_count": 42,
   "metadata": {},
   "outputs": [],
   "source": [
    "df = pd.read_csv('../Dataset/Dataset_EditActions.csv')\n",
    "df = df.drop(['Architecture', 'Reproducible?', 'Code Snippet Present?', 'System Configuration Present?', 'Data Description Present?', 'Framework'], axis = 1)"
   ]
  },
  {
   "cell_type": "code",
   "execution_count": 43,
   "metadata": {},
   "outputs": [],
   "source": [
    "# Replace Training Bug with value T, Model bug with value M, API bug with value A, Tensor & Input Bug with value I, and GPU Bug with value G\n",
    "df.loc[df['Type of Bug'] == 'Training Bug', 'Type of Bug'] = 'T'\n",
    "df.loc[df['Type of Bug'] == 'Model Bug', 'Type of Bug'] = 'M'\n",
    "df.loc[df['Type of Bug'] == 'API Bug', 'Type of Bug'] = 'A'\n",
    "df.loc[df['Type of Bug'] == 'Tensor and Input Bug', 'Type of Bug'] = 'I'\n",
    "df.loc[df['Type of Bug'] == 'GPU Bug', 'Type of Bug'] = 'G'\n",
    "df.loc[df['Type of Bug'] == 'Mixed Bug', 'Type of Bug'] = 'X'"
   ]
  },
  {
   "cell_type": "code",
   "execution_count": 44,
   "metadata": {},
   "outputs": [],
   "source": [
    "# Map values from new columns as the following:\n",
    "# Input Data Generation: D \n",
    "# Neural Network Definition: N\n",
    "# Obsolete Parameter Removal: O\n",
    "# Framework Migration: F\n",
    "# Dataset Procurement: P\n",
    "# Models and Tokenizers: M\n",
    "# Logging: L\n",
    "# Import Addition and Dependency Resolution: R\n",
    "# Compiler Error Resolution: C\n",
    "# Hyperparameter Initialization: H\n",
    "\n",
    "# Replace all 1's with the corresponding letter\n",
    "df['Input Data Generation'] = df['Input Data Generation'].replace(1, 'D')\n",
    "df['Neural Network Definition'] = df['Neural Network Definition'].replace(1, 'N')\n",
    "df['Obsolete Parameter Removal'] = df['Obsolete Parameter Removal'].replace(1, 'O')\n",
    "df['Framework Migration'] = df['Framework Migration'].replace(1, 'F')\n",
    "df['Dataset Procurement'] = df['Dataset Procurement'].replace(1, 'P')\n",
    "df['Downloading Models and Tokenizers'] = df['Downloading Models and Tokenizers'].replace(1, 'M')\n",
    "df['Logging'] = df['Logging'].replace(1, 'L')\n",
    "df['Import Addition and Dependency Resolution'] = df['Import Addition and Dependency Resolution'].replace(1, 'R')\n",
    "df['Compiler Error Resolution'] = df['Compiler Error Resolution'].replace(1, 'C')\n",
    "df['Hyperparameter Initialization'] = df['Hyperparameter Initialization'].replace(1, 'H')\n",
    "\n",
    "\n",
    "df['Input Data Generation'] = df['Input Data Generation'].replace(0, '')\n",
    "df['Neural Network Definition'] = df['Neural Network Definition'].replace(0, '')\n",
    "df['Obsolete Parameter Removal'] = df['Obsolete Parameter Removal'].replace(0, '')\n",
    "df['Framework Migration'] = df['Framework Migration'].replace(0, '')\n",
    "df['Dataset Procurement'] = df['Dataset Procurement'].replace(0, '')\n",
    "df['Downloading Models and Tokenizers'] = df['Downloading Models and Tokenizers'].replace(0, '')\n",
    "df['Logging'] = df['Logging'].replace(0, '')\n",
    "df['Import Addition and Dependency Resolution'] = df['Import Addition and Dependency Resolution'].replace(0, '')\n",
    "df['Compiler Error Resolution'] = df['Compiler Error Resolution'].replace(0, '')\n",
    "df['Hyperparameter Initialization'] = df['Hyperparameter Initialization'].replace(0, '')"
   ]
  },
  {
   "cell_type": "code",
   "execution_count": 45,
   "metadata": {},
   "outputs": [],
   "source": [
    "training_bugs = df[df['Type of Bug'] == 'T']\n",
    "gpu_bugs = df[df['Type of Bug'] == 'G']\n",
    "api_bugs = df[df['Type of Bug'] == 'A']\n",
    "model_bugs = df[df['Type of Bug'] == 'M']\n",
    "tensor_bugs = df[df['Type of Bug'] == 'I']\n",
    "mixed_bugs = df[df['Type of Bug'] == 'X']\n",
    "\n",
    "training_transactions = []\n",
    "for i in range(0, len(training_bugs)):\n",
    "    training_transactions.append([str(training_bugs.values[i,j]) for j in range(0, len(training_bugs.columns)) if str(training_bugs.values[i,j]) != ''])\n",
    "\n",
    "gpu_transactions = []\n",
    "for i in range(0, len(gpu_bugs)):\n",
    "    gpu_transactions.append([str(gpu_bugs.values[i,j]) for j in range(0, len(gpu_bugs.columns)) if str(gpu_bugs.values[i,j]) != ''])\n",
    "\n",
    "api_transactions = []\n",
    "for i in range(0, len(api_bugs)):\n",
    "    api_transactions.append([str(api_bugs.values[i,j]) for j in range(0, len(api_bugs.columns)) if str(api_bugs.values[i,j]) != ''])\n",
    "\n",
    "model_transactions = []\n",
    "for i in range(0, len(model_bugs)):\n",
    "    model_transactions.append([str(model_bugs.values[i,j]) for j in range(0, len(model_bugs.columns)) if str(model_bugs.values[i,j]) != ''])\n",
    "\n",
    "tensor_transactions = []\n",
    "for i in range(0, len(tensor_bugs)):\n",
    "    tensor_transactions.append([str(tensor_bugs.values[i,j]) for j in range(0, len(tensor_bugs.columns)) if str(tensor_bugs.values[i,j]) != ''])\n",
    "\n",
    "mixed_transactions = []\n",
    "for i in range(0, len(mixed_bugs)):\n",
    "    mixed_transactions.append([str(mixed_bugs.values[i,j]) for j in range(0, len(mixed_bugs.columns)) if str(mixed_bugs.values[i,j]) != ''])\n",
    "\n",
    "transactions = []\n",
    "for i in range(0, len(df)):\n",
    "    transactions.append([str(df.values[i,j]) for j in range(0, len(df.columns)) if str(df.values[i,j]) != ''])"
   ]
  },
  {
   "cell_type": "code",
   "execution_count": 46,
   "metadata": {},
   "outputs": [],
   "source": [
    "def get_apriori_results(rules, character):\n",
    "    for result in list(rules):\n",
    "     if character in result.items:\n",
    "        items = \", \".join(result.items)\n",
    "        support = result.support\n",
    "        print(f\"Items: {{{items}}}\")\n",
    "        print(f\"Support: {support:.4f}\")\n",
    "        if result.ordered_statistics:\n",
    "            print(\"Association Rules:\")\n",
    "            for rule in result.ordered_statistics:\n",
    "                if character in rule.items_base:\n",
    "                    antecedent = \", \".join(rule.items_base)\n",
    "                    consequent = \", \".join(rule.items_add)\n",
    "                    confidence = rule.confidence\n",
    "                    lift = rule.lift\n",
    "                    print(f\"  {{{antecedent}}} => {{{consequent}}}\")\n",
    "                    print(f\"Confidence: {confidence:.4f}\")"
   ]
  },
  {
   "cell_type": "code",
   "execution_count": 47,
   "metadata": {},
   "outputs": [
    {
     "name": "stdout",
     "output_type": "stream",
     "text": [
      "Items: {T}\n",
      "Support: 1.0000\n",
      "Association Rules:\n",
      "Items: {T, C}\n",
      "Support: 0.2692\n",
      "Association Rules:\n",
      "  {T} => {C}\n",
      "Confidence: 0.2692\n",
      "Items: {T, D}\n",
      "Support: 0.6154\n",
      "Association Rules:\n",
      "  {T} => {D}\n",
      "Confidence: 0.6154\n",
      "Items: {T, F}\n",
      "Support: 0.3462\n",
      "Association Rules:\n",
      "  {T} => {F}\n",
      "Confidence: 0.3462\n",
      "Items: {T, H}\n",
      "Support: 0.3077\n",
      "Association Rules:\n",
      "  {T} => {H}\n",
      "Confidence: 0.3077\n",
      "Items: {T, L}\n",
      "Support: 0.2692\n",
      "Association Rules:\n",
      "  {T} => {L}\n",
      "Confidence: 0.2692\n",
      "Items: {T, N}\n",
      "Support: 0.1154\n",
      "Association Rules:\n",
      "  {T} => {N}\n",
      "Confidence: 0.1154\n",
      "Items: {O, T}\n",
      "Support: 0.1538\n",
      "Association Rules:\n",
      "  {T} => {O}\n",
      "Confidence: 0.1538\n",
      "Items: {T, P}\n",
      "Support: 0.2692\n",
      "Association Rules:\n",
      "  {T} => {P}\n",
      "Confidence: 0.2692\n",
      "Items: {T, R}\n",
      "Support: 0.4231\n",
      "Association Rules:\n",
      "  {T} => {R}\n",
      "Confidence: 0.4231\n",
      "Items: {T, H, C}\n",
      "Support: 0.1538\n",
      "Association Rules:\n",
      "  {T} => {H, C}\n",
      "Confidence: 0.1538\n",
      "  {T, C} => {H}\n",
      "Confidence: 0.5714\n",
      "  {T, H} => {C}\n",
      "Confidence: 0.5000\n",
      "Items: {T, L, C}\n",
      "Support: 0.1154\n",
      "Association Rules:\n",
      "  {T} => {L, C}\n",
      "Confidence: 0.1154\n",
      "  {T, C} => {L}\n",
      "Confidence: 0.4286\n",
      "  {T, L} => {C}\n",
      "Confidence: 0.4286\n",
      "Items: {T, N, C}\n",
      "Support: 0.1154\n",
      "Association Rules:\n",
      "  {T} => {N, C}\n",
      "Confidence: 0.1154\n",
      "  {T, C} => {N}\n",
      "Confidence: 0.4286\n",
      "  {T, N} => {C}\n",
      "Confidence: 1.0000\n",
      "Items: {O, T, C}\n",
      "Support: 0.1538\n",
      "Association Rules:\n",
      "  {T} => {O, C}\n",
      "Confidence: 0.1538\n",
      "  {T, C} => {O}\n",
      "Confidence: 0.5714\n",
      "  {O, T} => {C}\n",
      "Confidence: 1.0000\n",
      "Items: {T, P, C}\n",
      "Support: 0.1538\n",
      "Association Rules:\n",
      "  {T} => {P, C}\n",
      "Confidence: 0.1538\n",
      "  {T, C} => {P}\n",
      "Confidence: 0.5714\n",
      "  {T, P} => {C}\n",
      "Confidence: 0.5714\n",
      "Items: {T, R, C}\n",
      "Support: 0.1538\n",
      "Association Rules:\n",
      "  {T} => {C, R}\n",
      "Confidence: 0.1538\n",
      "  {T, C} => {R}\n",
      "Confidence: 0.5714\n",
      "  {T, R} => {C}\n",
      "Confidence: 0.3636\n",
      "Items: {T, F, D}\n",
      "Support: 0.2308\n",
      "Association Rules:\n",
      "  {T} => {F, D}\n",
      "Confidence: 0.2308\n",
      "  {T, D} => {F}\n",
      "Confidence: 0.3750\n",
      "  {T, F} => {D}\n",
      "Confidence: 0.6667\n",
      "Items: {T, H, D}\n",
      "Support: 0.1538\n",
      "Association Rules:\n",
      "  {T} => {H, D}\n",
      "Confidence: 0.1538\n",
      "  {T, D} => {H}\n",
      "Confidence: 0.2500\n",
      "  {T, H} => {D}\n",
      "Confidence: 0.5000\n",
      "Items: {T, L, D}\n",
      "Support: 0.1538\n",
      "Association Rules:\n",
      "  {T} => {L, D}\n",
      "Confidence: 0.1538\n",
      "  {T, D} => {L}\n",
      "Confidence: 0.2500\n",
      "  {T, L} => {D}\n",
      "Confidence: 0.5714\n",
      "Items: {T, P, D}\n",
      "Support: 0.1154\n",
      "Association Rules:\n",
      "  {T} => {P, D}\n",
      "Confidence: 0.1154\n",
      "  {T, D} => {P}\n",
      "Confidence: 0.1875\n",
      "  {T, P} => {D}\n",
      "Confidence: 0.4286\n",
      "Items: {T, D, R}\n",
      "Support: 0.2308\n",
      "Association Rules:\n",
      "  {T} => {D, R}\n",
      "Confidence: 0.2308\n",
      "  {T, D} => {R}\n",
      "Confidence: 0.3750\n",
      "  {T, R} => {D}\n",
      "Confidence: 0.5455\n",
      "Items: {T, F, P}\n",
      "Support: 0.1154\n",
      "Association Rules:\n",
      "  {T} => {F, P}\n",
      "Confidence: 0.1154\n",
      "  {T, F} => {P}\n",
      "Confidence: 0.3333\n",
      "  {T, P} => {F}\n",
      "Confidence: 0.4286\n",
      "Items: {T, F, R}\n",
      "Support: 0.1154\n",
      "Association Rules:\n",
      "  {T} => {F, R}\n",
      "Confidence: 0.1154\n",
      "  {T, F} => {R}\n",
      "Confidence: 0.3333\n",
      "  {T, R} => {F}\n",
      "Confidence: 0.2727\n",
      "Items: {P, T, H}\n",
      "Support: 0.1154\n",
      "Association Rules:\n",
      "  {T} => {H, P}\n",
      "Confidence: 0.1154\n",
      "  {T, H} => {P}\n",
      "Confidence: 0.3750\n",
      "  {T, P} => {H}\n",
      "Confidence: 0.4286\n",
      "Items: {T, H, R}\n",
      "Support: 0.1538\n",
      "Association Rules:\n",
      "  {T} => {H, R}\n",
      "Confidence: 0.1538\n",
      "  {T, H} => {R}\n",
      "Confidence: 0.5000\n",
      "  {T, R} => {H}\n",
      "Confidence: 0.3636\n",
      "Items: {T, L, P}\n",
      "Support: 0.1154\n",
      "Association Rules:\n",
      "  {T} => {L, P}\n",
      "Confidence: 0.1154\n",
      "  {T, L} => {P}\n",
      "Confidence: 0.4286\n",
      "  {T, P} => {L}\n",
      "Confidence: 0.4286\n",
      "Items: {O, T, R}\n",
      "Support: 0.1538\n",
      "Association Rules:\n",
      "  {T} => {O, R}\n",
      "Confidence: 0.1538\n",
      "  {O, T} => {R}\n",
      "Confidence: 1.0000\n",
      "  {T, R} => {O}\n",
      "Confidence: 0.3636\n"
     ]
    }
   ],
   "source": [
    "get_apriori_results(apriori(training_transactions, max_length = 3), 'T')"
   ]
  },
  {
   "cell_type": "code",
   "execution_count": 48,
   "metadata": {},
   "outputs": [
    {
     "name": "stdout",
     "output_type": "stream",
     "text": [
      "Items: {M}\n",
      "Support: 1.0000\n",
      "Association Rules:\n",
      "Items: {M, C}\n",
      "Support: 0.3000\n",
      "Association Rules:\n",
      "  {M} => {C}\n",
      "Confidence: 0.3000\n",
      "Items: {M, D}\n",
      "Support: 0.3500\n",
      "Association Rules:\n",
      "  {M} => {D}\n",
      "Confidence: 0.3500\n",
      "Items: {M, F}\n",
      "Support: 0.2000\n",
      "Association Rules:\n",
      "  {M} => {F}\n",
      "Confidence: 0.2000\n",
      "Items: {M, H}\n",
      "Support: 0.5000\n",
      "Association Rules:\n",
      "  {M} => {H}\n",
      "Confidence: 0.5000\n",
      "Items: {M, L}\n",
      "Support: 0.4500\n",
      "Association Rules:\n",
      "  {M} => {L}\n",
      "Confidence: 0.4500\n",
      "Items: {M, N}\n",
      "Support: 0.7500\n",
      "Association Rules:\n",
      "  {M} => {N}\n",
      "Confidence: 0.7500\n",
      "Items: {O, M}\n",
      "Support: 0.1500\n",
      "Association Rules:\n",
      "  {M} => {O}\n",
      "Confidence: 0.1500\n",
      "Items: {M, P}\n",
      "Support: 0.4000\n",
      "Association Rules:\n",
      "  {M} => {P}\n",
      "Confidence: 0.4000\n",
      "Items: {M, R}\n",
      "Support: 0.5500\n",
      "Association Rules:\n",
      "  {M} => {R}\n",
      "Confidence: 0.5500\n",
      "Items: {M, D, C}\n",
      "Support: 0.1000\n",
      "Association Rules:\n",
      "  {M} => {D, C}\n",
      "Confidence: 0.1000\n",
      "  {M, C} => {D}\n",
      "Confidence: 0.3333\n",
      "  {M, D} => {C}\n",
      "Confidence: 0.2857\n",
      "Items: {M, F, C}\n",
      "Support: 0.1000\n",
      "Association Rules:\n",
      "  {M} => {F, C}\n",
      "Confidence: 0.1000\n",
      "  {M, C} => {F}\n",
      "Confidence: 0.3333\n",
      "  {M, F} => {C}\n",
      "Confidence: 0.5000\n",
      "Items: {M, H, C}\n",
      "Support: 0.2000\n",
      "Association Rules:\n",
      "  {M} => {H, C}\n",
      "Confidence: 0.2000\n",
      "  {M, C} => {H}\n",
      "Confidence: 0.6667\n",
      "  {M, H} => {C}\n",
      "Confidence: 0.4000\n",
      "Items: {M, N, C}\n",
      "Support: 0.3000\n",
      "Association Rules:\n",
      "  {M} => {N, C}\n",
      "Confidence: 0.3000\n",
      "  {M, C} => {N}\n",
      "Confidence: 1.0000\n",
      "  {M, N} => {C}\n",
      "Confidence: 0.4000\n",
      "Items: {M, P, C}\n",
      "Support: 0.1000\n",
      "Association Rules:\n",
      "  {M} => {P, C}\n",
      "Confidence: 0.1000\n",
      "  {M, C} => {P}\n",
      "Confidence: 0.3333\n",
      "  {M, P} => {C}\n",
      "Confidence: 0.2500\n",
      "Items: {R, M, C}\n",
      "Support: 0.2000\n",
      "Association Rules:\n",
      "  {M} => {C, R}\n",
      "Confidence: 0.2000\n",
      "  {M, C} => {R}\n",
      "Confidence: 0.6667\n",
      "  {M, R} => {C}\n",
      "Confidence: 0.3636\n",
      "Items: {M, H, D}\n",
      "Support: 0.1000\n",
      "Association Rules:\n",
      "  {M} => {H, D}\n",
      "Confidence: 0.1000\n",
      "  {M, D} => {H}\n",
      "Confidence: 0.2857\n",
      "  {M, H} => {D}\n",
      "Confidence: 0.2000\n",
      "Items: {M, L, D}\n",
      "Support: 0.1500\n",
      "Association Rules:\n",
      "  {M} => {L, D}\n",
      "Confidence: 0.1500\n",
      "  {M, D} => {L}\n",
      "Confidence: 0.4286\n",
      "  {M, L} => {D}\n",
      "Confidence: 0.3333\n",
      "Items: {M, N, D}\n",
      "Support: 0.2500\n",
      "Association Rules:\n",
      "  {M} => {N, D}\n",
      "Confidence: 0.2500\n",
      "  {M, D} => {N}\n",
      "Confidence: 0.7143\n",
      "  {M, N} => {D}\n",
      "Confidence: 0.3333\n",
      "Items: {M, P, D}\n",
      "Support: 0.1000\n",
      "Association Rules:\n",
      "  {M} => {P, D}\n",
      "Confidence: 0.1000\n",
      "  {M, D} => {P}\n",
      "Confidence: 0.2857\n",
      "  {M, P} => {D}\n",
      "Confidence: 0.2500\n",
      "Items: {M, D, R}\n",
      "Support: 0.2500\n",
      "Association Rules:\n",
      "  {M} => {D, R}\n",
      "Confidence: 0.2500\n",
      "  {M, D} => {R}\n",
      "Confidence: 0.7143\n",
      "  {M, R} => {D}\n",
      "Confidence: 0.4545\n",
      "Items: {M, F, H}\n",
      "Support: 0.1500\n",
      "Association Rules:\n",
      "  {M} => {F, H}\n",
      "Confidence: 0.1500\n",
      "  {M, F} => {H}\n",
      "Confidence: 0.7500\n",
      "  {M, H} => {F}\n",
      "Confidence: 0.3000\n",
      "Items: {M, F, L}\n",
      "Support: 0.1000\n",
      "Association Rules:\n",
      "  {M} => {F, L}\n",
      "Confidence: 0.1000\n",
      "  {M, F} => {L}\n",
      "Confidence: 0.5000\n",
      "  {M, L} => {F}\n",
      "Confidence: 0.2222\n",
      "Items: {M, F, N}\n",
      "Support: 0.2000\n",
      "Association Rules:\n",
      "  {M} => {F, N}\n",
      "Confidence: 0.2000\n",
      "  {M, F} => {N}\n",
      "Confidence: 1.0000\n",
      "  {M, N} => {F}\n",
      "Confidence: 0.2667\n",
      "Items: {O, M, F}\n",
      "Support: 0.1000\n",
      "Association Rules:\n",
      "  {M} => {O, F}\n",
      "Confidence: 0.1000\n",
      "  {M, F} => {O}\n",
      "Confidence: 0.5000\n",
      "  {O, M} => {F}\n",
      "Confidence: 0.6667\n",
      "Items: {M, F, P}\n",
      "Support: 0.1500\n",
      "Association Rules:\n",
      "  {M} => {F, P}\n",
      "Confidence: 0.1500\n",
      "  {M, F} => {P}\n",
      "Confidence: 0.7500\n",
      "  {M, P} => {F}\n",
      "Confidence: 0.3750\n",
      "Items: {M, L, H}\n",
      "Support: 0.3000\n",
      "Association Rules:\n",
      "  {M} => {L, H}\n",
      "Confidence: 0.3000\n",
      "  {M, H} => {L}\n",
      "Confidence: 0.6000\n",
      "  {M, L} => {H}\n",
      "Confidence: 0.6667\n",
      "Items: {M, H, N}\n",
      "Support: 0.3500\n",
      "Association Rules:\n",
      "  {M} => {H, N}\n",
      "Confidence: 0.3500\n",
      "  {M, H} => {N}\n",
      "Confidence: 0.7000\n",
      "  {M, N} => {H}\n",
      "Confidence: 0.4667\n",
      "Items: {O, M, H}\n",
      "Support: 0.1000\n",
      "Association Rules:\n",
      "  {M} => {O, H}\n",
      "Confidence: 0.1000\n",
      "  {M, H} => {O}\n",
      "Confidence: 0.2000\n",
      "  {O, M} => {H}\n",
      "Confidence: 0.6667\n",
      "Items: {P, M, H}\n",
      "Support: 0.2000\n",
      "Association Rules:\n",
      "  {M} => {H, P}\n",
      "Confidence: 0.2000\n",
      "  {M, H} => {P}\n",
      "Confidence: 0.4000\n",
      "  {M, P} => {H}\n",
      "Confidence: 0.5000\n",
      "Items: {M, H, R}\n",
      "Support: 0.1500\n",
      "Association Rules:\n",
      "  {M} => {H, R}\n",
      "Confidence: 0.1500\n",
      "  {M, H} => {R}\n",
      "Confidence: 0.3000\n",
      "  {M, R} => {H}\n",
      "Confidence: 0.2727\n",
      "Items: {M, L, N}\n",
      "Support: 0.3000\n",
      "Association Rules:\n",
      "  {M} => {L, N}\n",
      "Confidence: 0.3000\n",
      "  {M, L} => {N}\n",
      "Confidence: 0.6667\n",
      "  {M, N} => {L}\n",
      "Confidence: 0.4000\n",
      "Items: {M, L, P}\n",
      "Support: 0.3000\n",
      "Association Rules:\n",
      "  {M} => {L, P}\n",
      "Confidence: 0.3000\n",
      "  {M, L} => {P}\n",
      "Confidence: 0.6667\n",
      "  {M, P} => {L}\n",
      "Confidence: 0.7500\n",
      "Items: {M, L, R}\n",
      "Support: 0.2000\n",
      "Association Rules:\n",
      "  {M} => {L, R}\n",
      "Confidence: 0.2000\n",
      "  {M, L} => {R}\n",
      "Confidence: 0.4444\n",
      "  {M, R} => {L}\n",
      "Confidence: 0.3636\n",
      "Items: {O, M, N}\n",
      "Support: 0.1000\n",
      "Association Rules:\n",
      "  {M} => {O, N}\n",
      "Confidence: 0.1000\n",
      "  {M, N} => {O}\n",
      "Confidence: 0.1333\n",
      "  {O, M} => {N}\n",
      "Confidence: 0.6667\n",
      "Items: {M, P, N}\n",
      "Support: 0.3000\n",
      "Association Rules:\n",
      "  {M} => {P, N}\n",
      "Confidence: 0.3000\n",
      "  {M, N} => {P}\n",
      "Confidence: 0.4000\n",
      "  {M, P} => {N}\n",
      "Confidence: 0.7500\n",
      "Items: {M, N, R}\n",
      "Support: 0.5000\n",
      "Association Rules:\n",
      "  {M} => {N, R}\n",
      "Confidence: 0.5000\n",
      "  {M, N} => {R}\n",
      "Confidence: 0.6667\n",
      "  {M, R} => {N}\n",
      "Confidence: 0.9091\n",
      "Items: {O, M, P}\n",
      "Support: 0.1500\n",
      "Association Rules:\n",
      "  {M} => {O, P}\n",
      "Confidence: 0.1500\n",
      "  {O, M} => {P}\n",
      "Confidence: 1.0000\n",
      "  {M, P} => {O}\n",
      "Confidence: 0.3750\n",
      "Items: {M, P, R}\n",
      "Support: 0.2000\n",
      "Association Rules:\n",
      "  {M} => {P, R}\n",
      "Confidence: 0.2000\n",
      "  {M, P} => {R}\n",
      "Confidence: 0.5000\n",
      "  {M, R} => {P}\n",
      "Confidence: 0.3636\n"
     ]
    }
   ],
   "source": [
    "get_apriori_results(apriori(model_transactions, max_length = 3), 'M')"
   ]
  },
  {
   "cell_type": "code",
   "execution_count": 49,
   "metadata": {},
   "outputs": [
    {
     "name": "stdout",
     "output_type": "stream",
     "text": [
      "Items: {G}\n",
      "Support: 1.0000\n",
      "Association Rules:\n"
     ]
    }
   ],
   "source": [
    "get_apriori_results(apriori(gpu_transactions, max_length = 3), 'G')"
   ]
  },
  {
   "cell_type": "code",
   "execution_count": 50,
   "metadata": {},
   "outputs": [
    {
     "name": "stdout",
     "output_type": "stream",
     "text": [
      "Items: {I}\n",
      "Support: 1.0000\n",
      "Association Rules:\n",
      "Items: {I, C}\n",
      "Support: 0.3333\n",
      "Association Rules:\n",
      "  {I} => {C}\n",
      "Confidence: 0.3333\n",
      "Items: {D, I}\n",
      "Support: 0.5714\n",
      "Association Rules:\n",
      "  {I} => {D}\n",
      "Confidence: 0.5714\n",
      "Items: {H, I}\n",
      "Support: 0.5238\n",
      "Association Rules:\n",
      "  {I} => {H}\n",
      "Confidence: 0.5238\n",
      "Items: {L, I}\n",
      "Support: 0.4286\n",
      "Association Rules:\n",
      "  {I} => {L}\n",
      "Confidence: 0.4286\n",
      "Items: {O, I}\n",
      "Support: 0.3333\n",
      "Association Rules:\n",
      "  {I} => {O}\n",
      "Confidence: 0.3333\n",
      "Items: {P, I}\n",
      "Support: 0.1905\n",
      "Association Rules:\n",
      "  {I} => {P}\n",
      "Confidence: 0.1905\n",
      "Items: {R, I}\n",
      "Support: 0.4762\n",
      "Association Rules:\n",
      "  {I} => {R}\n",
      "Confidence: 0.4762\n",
      "Items: {I, D, C}\n",
      "Support: 0.2857\n",
      "Association Rules:\n",
      "  {I} => {D, C}\n",
      "Confidence: 0.2857\n",
      "  {I, C} => {D}\n",
      "Confidence: 0.8571\n",
      "  {D, I} => {C}\n",
      "Confidence: 0.5000\n",
      "Items: {O, I, C}\n",
      "Support: 0.1905\n",
      "Association Rules:\n",
      "  {I} => {O, C}\n",
      "Confidence: 0.1905\n",
      "  {I, C} => {O}\n",
      "Confidence: 0.5714\n",
      "  {O, I} => {C}\n",
      "Confidence: 0.5714\n",
      "Items: {R, I, C}\n",
      "Support: 0.1905\n",
      "Association Rules:\n",
      "  {I} => {C, R}\n",
      "Confidence: 0.1905\n",
      "  {I, C} => {R}\n",
      "Confidence: 0.5714\n",
      "  {R, I} => {C}\n",
      "Confidence: 0.4000\n",
      "Items: {H, D, I}\n",
      "Support: 0.2857\n",
      "Association Rules:\n",
      "  {I} => {H, D}\n",
      "Confidence: 0.2857\n",
      "  {D, I} => {H}\n",
      "Confidence: 0.5000\n",
      "  {H, I} => {D}\n",
      "Confidence: 0.5455\n",
      "Items: {L, D, I}\n",
      "Support: 0.2381\n",
      "Association Rules:\n",
      "  {I} => {L, D}\n",
      "Confidence: 0.2381\n",
      "  {D, I} => {L}\n",
      "Confidence: 0.4167\n",
      "  {L, I} => {D}\n",
      "Confidence: 0.5556\n",
      "Items: {O, D, I}\n",
      "Support: 0.2381\n",
      "Association Rules:\n",
      "  {I} => {O, D}\n",
      "Confidence: 0.2381\n",
      "  {D, I} => {O}\n",
      "Confidence: 0.4167\n",
      "  {O, I} => {D}\n",
      "Confidence: 0.7143\n",
      "Items: {P, D, I}\n",
      "Support: 0.1429\n",
      "Association Rules:\n",
      "  {I} => {P, D}\n",
      "Confidence: 0.1429\n",
      "  {D, I} => {P}\n",
      "Confidence: 0.2500\n",
      "  {P, I} => {D}\n",
      "Confidence: 0.7500\n",
      "Items: {R, D, I}\n",
      "Support: 0.3333\n",
      "Association Rules:\n",
      "  {I} => {D, R}\n",
      "Confidence: 0.3333\n",
      "  {D, I} => {R}\n",
      "Confidence: 0.5833\n",
      "  {R, I} => {D}\n",
      "Confidence: 0.7000\n",
      "Items: {L, H, I}\n",
      "Support: 0.3333\n",
      "Association Rules:\n",
      "  {I} => {L, H}\n",
      "Confidence: 0.3333\n",
      "  {H, I} => {L}\n",
      "Confidence: 0.6364\n",
      "  {L, I} => {H}\n",
      "Confidence: 0.7778\n",
      "Items: {O, H, I}\n",
      "Support: 0.1905\n",
      "Association Rules:\n",
      "  {I} => {O, H}\n",
      "Confidence: 0.1905\n",
      "  {H, I} => {O}\n",
      "Confidence: 0.3636\n",
      "  {O, I} => {H}\n",
      "Confidence: 0.5714\n",
      "Items: {R, H, I}\n",
      "Support: 0.2857\n",
      "Association Rules:\n",
      "  {I} => {H, R}\n",
      "Confidence: 0.2857\n",
      "  {H, I} => {R}\n",
      "Confidence: 0.5455\n",
      "  {R, I} => {H}\n",
      "Confidence: 0.6000\n",
      "Items: {O, L, I}\n",
      "Support: 0.2381\n",
      "Association Rules:\n",
      "  {I} => {O, L}\n",
      "Confidence: 0.2381\n",
      "  {L, I} => {O}\n",
      "Confidence: 0.5556\n",
      "  {O, I} => {L}\n",
      "Confidence: 0.7143\n",
      "Items: {R, L, I}\n",
      "Support: 0.2381\n",
      "Association Rules:\n",
      "  {I} => {L, R}\n",
      "Confidence: 0.2381\n",
      "  {L, I} => {R}\n",
      "Confidence: 0.5556\n",
      "  {R, I} => {L}\n",
      "Confidence: 0.5000\n",
      "Items: {O, R, I}\n",
      "Support: 0.1905\n",
      "Association Rules:\n",
      "  {I} => {O, R}\n",
      "Confidence: 0.1905\n",
      "  {O, I} => {R}\n",
      "Confidence: 0.5714\n",
      "  {R, I} => {O}\n",
      "Confidence: 0.4000\n"
     ]
    }
   ],
   "source": [
    "get_apriori_results(apriori(tensor_transactions, max_length = 3), 'I')"
   ]
  },
  {
   "cell_type": "code",
   "execution_count": 51,
   "metadata": {},
   "outputs": [
    {
     "name": "stdout",
     "output_type": "stream",
     "text": [
      "Items: {X}\n",
      "Support: 1.0000\n",
      "Association Rules:\n",
      "Items: {X, C}\n",
      "Support: 0.5000\n",
      "Association Rules:\n",
      "  {X} => {C}\n",
      "Confidence: 0.5000\n",
      "Items: {X, D}\n",
      "Support: 0.7500\n",
      "Association Rules:\n",
      "  {X} => {D}\n",
      "Confidence: 0.7500\n",
      "Items: {F, X}\n",
      "Support: 0.2500\n",
      "Association Rules:\n",
      "  {X} => {F}\n",
      "Confidence: 0.2500\n",
      "Items: {H, X}\n",
      "Support: 1.0000\n",
      "Association Rules:\n",
      "  {X} => {H}\n",
      "Confidence: 1.0000\n",
      "Items: {N, X}\n",
      "Support: 0.2500\n",
      "Association Rules:\n",
      "  {X} => {N}\n",
      "Confidence: 0.2500\n",
      "Items: {P, X}\n",
      "Support: 0.2500\n",
      "Association Rules:\n",
      "  {X} => {P}\n",
      "Confidence: 0.2500\n",
      "Items: {X, R}\n",
      "Support: 0.7500\n",
      "Association Rules:\n",
      "  {X} => {R}\n",
      "Confidence: 0.7500\n",
      "Items: {X, D, C}\n",
      "Support: 0.2500\n",
      "Association Rules:\n",
      "  {X} => {D, C}\n",
      "Confidence: 0.2500\n",
      "  {X, C} => {D}\n",
      "Confidence: 0.5000\n",
      "  {X, D} => {C}\n",
      "Confidence: 0.3333\n",
      "Items: {F, X, C}\n",
      "Support: 0.2500\n",
      "Association Rules:\n",
      "  {X} => {F, C}\n",
      "Confidence: 0.2500\n",
      "  {X, C} => {F}\n",
      "Confidence: 0.5000\n",
      "  {F, X} => {C}\n",
      "Confidence: 1.0000\n",
      "Items: {H, X, C}\n",
      "Support: 0.5000\n",
      "Association Rules:\n",
      "  {X} => {H, C}\n",
      "Confidence: 0.5000\n",
      "  {X, C} => {H}\n",
      "Confidence: 1.0000\n",
      "  {H, X} => {C}\n",
      "Confidence: 0.5000\n",
      "Items: {P, X, C}\n",
      "Support: 0.2500\n",
      "Association Rules:\n",
      "  {X} => {P, C}\n",
      "Confidence: 0.2500\n",
      "  {X, C} => {P}\n",
      "Confidence: 0.5000\n",
      "  {P, X} => {C}\n",
      "Confidence: 1.0000\n",
      "Items: {R, X, C}\n",
      "Support: 0.2500\n",
      "Association Rules:\n",
      "  {X} => {C, R}\n",
      "Confidence: 0.2500\n",
      "  {X, C} => {R}\n",
      "Confidence: 0.5000\n",
      "  {X, R} => {C}\n",
      "Confidence: 0.3333\n",
      "Items: {F, X, D}\n",
      "Support: 0.2500\n",
      "Association Rules:\n",
      "  {X} => {F, D}\n",
      "Confidence: 0.2500\n",
      "  {X, D} => {F}\n",
      "Confidence: 0.3333\n",
      "  {F, X} => {D}\n",
      "Confidence: 1.0000\n",
      "Items: {H, X, D}\n",
      "Support: 0.7500\n",
      "Association Rules:\n",
      "  {X} => {H, D}\n",
      "Confidence: 0.7500\n",
      "  {X, D} => {H}\n",
      "Confidence: 1.0000\n",
      "  {H, X} => {D}\n",
      "Confidence: 0.7500\n",
      "Items: {X, N, D}\n",
      "Support: 0.2500\n",
      "Association Rules:\n",
      "  {X} => {N, D}\n",
      "Confidence: 0.2500\n",
      "  {X, D} => {N}\n",
      "Confidence: 0.3333\n",
      "  {N, X} => {D}\n",
      "Confidence: 1.0000\n",
      "Items: {P, X, D}\n",
      "Support: 0.2500\n",
      "Association Rules:\n",
      "  {X} => {P, D}\n",
      "Confidence: 0.2500\n",
      "  {X, D} => {P}\n",
      "Confidence: 0.3333\n",
      "  {P, X} => {D}\n",
      "Confidence: 1.0000\n",
      "Items: {X, D, R}\n",
      "Support: 0.5000\n",
      "Association Rules:\n",
      "  {X} => {D, R}\n",
      "Confidence: 0.5000\n",
      "  {X, D} => {R}\n",
      "Confidence: 0.6667\n",
      "  {X, R} => {D}\n",
      "Confidence: 0.6667\n",
      "Items: {F, H, X}\n",
      "Support: 0.2500\n",
      "Association Rules:\n",
      "  {X} => {F, H}\n",
      "Confidence: 0.2500\n",
      "  {F, X} => {H}\n",
      "Confidence: 1.0000\n",
      "  {H, X} => {F}\n",
      "Confidence: 0.2500\n",
      "Items: {F, P, X}\n",
      "Support: 0.2500\n",
      "Association Rules:\n",
      "  {X} => {F, P}\n",
      "Confidence: 0.2500\n",
      "  {F, X} => {P}\n",
      "Confidence: 1.0000\n",
      "  {P, X} => {F}\n",
      "Confidence: 1.0000\n",
      "Items: {H, N, X}\n",
      "Support: 0.2500\n",
      "Association Rules:\n",
      "  {X} => {H, N}\n",
      "Confidence: 0.2500\n",
      "  {H, X} => {N}\n",
      "Confidence: 0.2500\n",
      "  {N, X} => {H}\n",
      "Confidence: 1.0000\n",
      "Items: {P, H, X}\n",
      "Support: 0.2500\n",
      "Association Rules:\n",
      "  {X} => {H, P}\n",
      "Confidence: 0.2500\n",
      "  {H, X} => {P}\n",
      "Confidence: 0.2500\n",
      "  {P, X} => {H}\n",
      "Confidence: 1.0000\n",
      "Items: {H, X, R}\n",
      "Support: 0.7500\n",
      "Association Rules:\n",
      "  {X} => {H, R}\n",
      "Confidence: 0.7500\n",
      "  {H, X} => {R}\n",
      "Confidence: 0.7500\n",
      "  {X, R} => {H}\n",
      "Confidence: 1.0000\n",
      "Items: {N, X, R}\n",
      "Support: 0.2500\n",
      "Association Rules:\n",
      "  {X} => {N, R}\n",
      "Confidence: 0.2500\n",
      "  {N, X} => {R}\n",
      "Confidence: 1.0000\n",
      "  {X, R} => {N}\n",
      "Confidence: 0.3333\n"
     ]
    }
   ],
   "source": [
    "get_apriori_results(apriori(mixed_transactions, max_length = 3), 'X')"
   ]
  },
  {
   "cell_type": "code",
   "execution_count": 52,
   "metadata": {},
   "outputs": [
    {
     "name": "stdout",
     "output_type": "stream",
     "text": [
      "Items: {A}\n",
      "Support: 1.0000\n",
      "Association Rules:\n",
      "Items: {A, D}\n",
      "Support: 0.3636\n",
      "Association Rules:\n",
      "  {A} => {D}\n",
      "Confidence: 0.3636\n",
      "Items: {A, H}\n",
      "Support: 0.3636\n",
      "Association Rules:\n",
      "  {A} => {H}\n",
      "Confidence: 0.3636\n",
      "Items: {A, L}\n",
      "Support: 0.1818\n",
      "Association Rules:\n",
      "  {A} => {L}\n",
      "Confidence: 0.1818\n",
      "Items: {A, N}\n",
      "Support: 0.1818\n",
      "Association Rules:\n",
      "  {A} => {N}\n",
      "Confidence: 0.1818\n",
      "Items: {A, P}\n",
      "Support: 0.2727\n",
      "Association Rules:\n",
      "  {A} => {P}\n",
      "Confidence: 0.2727\n",
      "Items: {A, R}\n",
      "Support: 0.4545\n",
      "Association Rules:\n",
      "  {A} => {R}\n",
      "Confidence: 0.4545\n",
      "Items: {A, H, D}\n",
      "Support: 0.1818\n",
      "Association Rules:\n",
      "  {A} => {H, D}\n",
      "Confidence: 0.1818\n",
      "  {A, D} => {H}\n",
      "Confidence: 0.5000\n",
      "  {A, H} => {D}\n",
      "Confidence: 0.5000\n",
      "Items: {A, D, R}\n",
      "Support: 0.2727\n",
      "Association Rules:\n",
      "  {A} => {D, R}\n",
      "Confidence: 0.2727\n",
      "  {A, D} => {R}\n",
      "Confidence: 0.7500\n",
      "  {A, R} => {D}\n",
      "Confidence: 0.6000\n",
      "Items: {A, H, R}\n",
      "Support: 0.1818\n",
      "Association Rules:\n",
      "  {A} => {H, R}\n",
      "Confidence: 0.1818\n",
      "  {A, H} => {R}\n",
      "Confidence: 0.5000\n",
      "  {A, R} => {H}\n",
      "Confidence: 0.4000\n",
      "Items: {A, P, N}\n",
      "Support: 0.1818\n",
      "Association Rules:\n",
      "  {A} => {P, N}\n",
      "Confidence: 0.1818\n",
      "  {A, N} => {P}\n",
      "Confidence: 1.0000\n",
      "  {A, P} => {N}\n",
      "Confidence: 0.6667\n",
      "Items: {A, N, R}\n",
      "Support: 0.1818\n",
      "Association Rules:\n",
      "  {A} => {N, R}\n",
      "Confidence: 0.1818\n",
      "  {A, N} => {R}\n",
      "Confidence: 1.0000\n",
      "  {A, R} => {N}\n",
      "Confidence: 0.4000\n",
      "Items: {A, P, R}\n",
      "Support: 0.2727\n",
      "Association Rules:\n",
      "  {A} => {P, R}\n",
      "Confidence: 0.2727\n",
      "  {A, P} => {R}\n",
      "Confidence: 1.0000\n",
      "  {A, R} => {P}\n",
      "Confidence: 0.6000\n"
     ]
    }
   ],
   "source": [
    "get_apriori_results(apriori(api_transactions, max_length = 3), 'A')"
   ]
  },
  {
   "cell_type": "code",
   "execution_count": 53,
   "metadata": {},
   "outputs": [],
   "source": [
    "from pyECLAT import ECLAT\n",
    "\n",
    "def get_eclat_support(transactions):\n",
    "    eclat_instance = ECLAT(data=pd.DataFrame(transactions), verbose=True)\n",
    "    get_ECLAT_indexes, get_ECLAT_supports = eclat_instance.fit(separator='', verbose=True)\n",
    "    print (len(get_ECLAT_supports))"
   ]
  },
  {
   "cell_type": "code",
   "execution_count": 54,
   "metadata": {},
   "outputs": [
    {
     "name": "stderr",
     "output_type": "stream",
     "text": [
      "100%|██████████| 11/11 [00:00<00:00, 236.22it/s]\n",
      "100%|██████████| 11/11 [00:00<00:00, 11037.64it/s]\n",
      "100%|██████████| 11/11 [00:00<00:00, 846.18it/s]\n"
     ]
    },
    {
     "name": "stdout",
     "output_type": "stream",
     "text": [
      "Combination 1 by 1\n"
     ]
    },
    {
     "name": "stderr",
     "output_type": "stream",
     "text": [
      "10it [00:00, 89.41it/s]\n"
     ]
    },
    {
     "name": "stdout",
     "output_type": "stream",
     "text": [
      "Combination 2 by 2\n"
     ]
    },
    {
     "name": "stderr",
     "output_type": "stream",
     "text": [
      "45it [00:00, 84.89it/s] \n"
     ]
    },
    {
     "name": "stdout",
     "output_type": "stream",
     "text": [
      "Combination 3 by 3\n"
     ]
    },
    {
     "name": "stderr",
     "output_type": "stream",
     "text": [
      "8it [00:00, 77.39it/s]"
     ]
    },
    {
     "name": "stderr",
     "output_type": "stream",
     "text": [
      "120it [00:01, 83.35it/s]\n"
     ]
    },
    {
     "name": "stdout",
     "output_type": "stream",
     "text": [
      "55\n"
     ]
    }
   ],
   "source": [
    "get_eclat_support(training_transactions)"
   ]
  },
  {
   "cell_type": "code",
   "execution_count": 55,
   "metadata": {},
   "outputs": [
    {
     "name": "stderr",
     "output_type": "stream",
     "text": [
      "100%|██████████| 1/1 [00:00<00:00, 182.78it/s]\n",
      "100%|██████████| 1/1 [00:00<00:00, 996.75it/s]\n",
      "100%|██████████| 1/1 [00:00<00:00, 498.08it/s]\n"
     ]
    },
    {
     "name": "stdout",
     "output_type": "stream",
     "text": [
      "Combination 1 by 1\n"
     ]
    },
    {
     "name": "stderr",
     "output_type": "stream",
     "text": [
      "1it [00:00, 66.87it/s]\n"
     ]
    },
    {
     "name": "stdout",
     "output_type": "stream",
     "text": [
      "Combination 2 by 2\n"
     ]
    },
    {
     "name": "stderr",
     "output_type": "stream",
     "text": [
      "0it [00:00, ?it/s]\n"
     ]
    },
    {
     "name": "stdout",
     "output_type": "stream",
     "text": [
      "Combination 3 by 3\n"
     ]
    },
    {
     "name": "stderr",
     "output_type": "stream",
     "text": [
      "0it [00:00, ?it/s]"
     ]
    },
    {
     "name": "stdout",
     "output_type": "stream",
     "text": [
      "1\n"
     ]
    },
    {
     "name": "stderr",
     "output_type": "stream",
     "text": [
      "\n"
     ]
    }
   ],
   "source": [
    "get_eclat_support(gpu_transactions)"
   ]
  },
  {
   "cell_type": "code",
   "execution_count": 56,
   "metadata": {},
   "outputs": [
    {
     "name": "stderr",
     "output_type": "stream",
     "text": [
      "100%|██████████| 11/11 [00:00<00:00, 104.74it/s]\n",
      "100%|██████████| 11/11 [00:00<00:00, 11037.64it/s]\n",
      "100%|██████████| 11/11 [00:00<00:00, 478.11it/s]\n"
     ]
    },
    {
     "name": "stdout",
     "output_type": "stream",
     "text": [
      "Combination 1 by 1\n"
     ]
    },
    {
     "name": "stderr",
     "output_type": "stream",
     "text": [
      "10it [00:00, 34.48it/s]\n"
     ]
    },
    {
     "name": "stdout",
     "output_type": "stream",
     "text": [
      "Combination 2 by 2\n"
     ]
    },
    {
     "name": "stderr",
     "output_type": "stream",
     "text": [
      "14it [00:00, 39.25it/s]"
     ]
    },
    {
     "name": "stderr",
     "output_type": "stream",
     "text": [
      "45it [00:00, 50.28it/s]\n"
     ]
    },
    {
     "name": "stdout",
     "output_type": "stream",
     "text": [
      "Combination 3 by 3\n"
     ]
    },
    {
     "name": "stderr",
     "output_type": "stream",
     "text": [
      "120it [00:02, 57.06it/s]"
     ]
    },
    {
     "name": "stdout",
     "output_type": "stream",
     "text": [
      "112\n"
     ]
    },
    {
     "name": "stderr",
     "output_type": "stream",
     "text": [
      "\n"
     ]
    }
   ],
   "source": [
    "get_eclat_support(model_transactions)"
   ]
  },
  {
   "cell_type": "code",
   "execution_count": 57,
   "metadata": {},
   "outputs": [
    {
     "name": "stderr",
     "output_type": "stream",
     "text": [
      "  0%|          | 0/11 [00:00<?, ?it/s]"
     ]
    },
    {
     "name": "stderr",
     "output_type": "stream",
     "text": [
      "100%|██████████| 11/11 [00:00<00:00, 237.37it/s]\n",
      "100%|██████████| 11/11 [00:00<00:00, 10714.66it/s]\n",
      "100%|██████████| 11/11 [00:00<00:00, 675.92it/s]\n"
     ]
    },
    {
     "name": "stdout",
     "output_type": "stream",
     "text": [
      "Combination 1 by 1\n"
     ]
    },
    {
     "name": "stderr",
     "output_type": "stream",
     "text": [
      "10it [00:00, 78.80it/s]\n"
     ]
    },
    {
     "name": "stdout",
     "output_type": "stream",
     "text": [
      "Combination 2 by 2\n"
     ]
    },
    {
     "name": "stderr",
     "output_type": "stream",
     "text": [
      "45it [00:00, 77.32it/s]\n"
     ]
    },
    {
     "name": "stdout",
     "output_type": "stream",
     "text": [
      "Combination 3 by 3\n"
     ]
    },
    {
     "name": "stderr",
     "output_type": "stream",
     "text": [
      "120it [00:01, 112.70it/s]"
     ]
    },
    {
     "name": "stdout",
     "output_type": "stream",
     "text": [
      "59\n"
     ]
    },
    {
     "name": "stderr",
     "output_type": "stream",
     "text": [
      "\n"
     ]
    }
   ],
   "source": [
    "get_eclat_support(api_transactions)"
   ]
  },
  {
   "cell_type": "code",
   "execution_count": 58,
   "metadata": {},
   "outputs": [
    {
     "name": "stderr",
     "output_type": "stream",
     "text": [
      "100%|██████████| 11/11 [00:00<00:00, 212.41it/s]\n",
      "100%|██████████| 11/11 [00:00<?, ?it/s]\n",
      "100%|██████████| 11/11 [00:00<00:00, 594.69it/s]\n"
     ]
    },
    {
     "name": "stdout",
     "output_type": "stream",
     "text": [
      "Combination 1 by 1\n"
     ]
    },
    {
     "name": "stderr",
     "output_type": "stream",
     "text": [
      "9it [00:00, 107.72it/s]\n"
     ]
    },
    {
     "name": "stdout",
     "output_type": "stream",
     "text": [
      "Combination 2 by 2\n"
     ]
    },
    {
     "name": "stderr",
     "output_type": "stream",
     "text": [
      "36it [00:00, 103.61it/s]\n"
     ]
    },
    {
     "name": "stdout",
     "output_type": "stream",
     "text": [
      "Combination 3 by 3\n"
     ]
    },
    {
     "name": "stderr",
     "output_type": "stream",
     "text": [
      "84it [00:00, 100.80it/s]"
     ]
    },
    {
     "name": "stdout",
     "output_type": "stream",
     "text": [
      "73\n"
     ]
    },
    {
     "name": "stderr",
     "output_type": "stream",
     "text": [
      "\n"
     ]
    }
   ],
   "source": [
    "get_eclat_support(tensor_transactions)"
   ]
  },
  {
   "cell_type": "code",
   "execution_count": 59,
   "metadata": {},
   "outputs": [
    {
     "name": "stderr",
     "output_type": "stream",
     "text": [
      "100%|██████████| 9/9 [00:00<00:00, 202.67it/s]\n",
      "100%|██████████| 9/9 [00:00<?, ?it/s]\n",
      "100%|██████████| 9/9 [00:00<00:00, 659.93it/s]\n"
     ]
    },
    {
     "name": "stdout",
     "output_type": "stream",
     "text": [
      "Combination 1 by 1\n"
     ]
    },
    {
     "name": "stderr",
     "output_type": "stream",
     "text": [
      "8it [00:00, 49.28it/s]\n"
     ]
    },
    {
     "name": "stdout",
     "output_type": "stream",
     "text": [
      "Combination 2 by 2\n"
     ]
    },
    {
     "name": "stderr",
     "output_type": "stream",
     "text": [
      "28it [00:00, 74.33it/s]\n"
     ]
    },
    {
     "name": "stdout",
     "output_type": "stream",
     "text": [
      "Combination 3 by 3\n"
     ]
    },
    {
     "name": "stderr",
     "output_type": "stream",
     "text": [
      "56it [00:00, 105.85it/s]"
     ]
    },
    {
     "name": "stdout",
     "output_type": "stream",
     "text": [
      "62\n"
     ]
    },
    {
     "name": "stderr",
     "output_type": "stream",
     "text": [
      "\n"
     ]
    }
   ],
   "source": [
    "get_eclat_support(mixed_transactions)"
   ]
  },
  {
   "cell_type": "code",
   "execution_count": 60,
   "metadata": {},
   "outputs": [
    {
     "name": "stderr",
     "output_type": "stream",
     "text": [
      "100%|██████████| 16/16 [00:00<00:00, 156.10it/s]\n",
      "100%|██████████| 16/16 [00:00<?, ?it/s]\n",
      "100%|██████████| 16/16 [00:00<00:00, 671.52it/s]\n"
     ]
    },
    {
     "name": "stdout",
     "output_type": "stream",
     "text": [
      "Combination 1 by 1\n"
     ]
    },
    {
     "name": "stderr",
     "output_type": "stream",
     "text": [
      "13it [00:00, 84.64it/s]\n"
     ]
    },
    {
     "name": "stdout",
     "output_type": "stream",
     "text": [
      "Combination 2 by 2\n"
     ]
    },
    {
     "name": "stderr",
     "output_type": "stream",
     "text": [
      "78it [00:00, 91.37it/s]\n"
     ]
    },
    {
     "name": "stdout",
     "output_type": "stream",
     "text": [
      "Combination 3 by 3\n"
     ]
    },
    {
     "name": "stderr",
     "output_type": "stream",
     "text": [
      "286it [00:03, 72.41it/s]"
     ]
    },
    {
     "name": "stdout",
     "output_type": "stream",
     "text": [
      "63\n"
     ]
    },
    {
     "name": "stderr",
     "output_type": "stream",
     "text": [
      "\n"
     ]
    }
   ],
   "source": [
    "get_eclat_support(transactions)"
   ]
  }
 ],
 "metadata": {
  "kernelspec": {
   "display_name": "venv",
   "language": "python",
   "name": "python3"
  },
  "language_info": {
   "codemirror_mode": {
    "name": "ipython",
    "version": 3
   },
   "file_extension": ".py",
   "mimetype": "text/x-python",
   "name": "python",
   "nbconvert_exporter": "python",
   "pygments_lexer": "ipython3",
   "version": "3.10.4"
  },
  "orig_nbformat": 4
 },
 "nbformat": 4,
 "nbformat_minor": 2
}
