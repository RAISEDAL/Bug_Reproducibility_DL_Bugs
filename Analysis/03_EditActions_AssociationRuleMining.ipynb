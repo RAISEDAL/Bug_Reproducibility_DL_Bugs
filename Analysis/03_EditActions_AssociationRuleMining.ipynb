{
 "cells": [
  {
   "cell_type": "code",
   "execution_count": 250,
   "metadata": {},
   "outputs": [],
   "source": [
    "import pandas as pd\n",
    "import warnings\n",
    "warnings.filterwarnings('ignore')"
   ]
  },
  {
   "cell_type": "code",
   "execution_count": 251,
   "metadata": {},
   "outputs": [],
   "source": [
    "df = pd.read_csv('../Dataset/Dataset_EditActions.csv')\n",
    "df = df.drop(['Architecture', 'Reproducible?', 'Code Snippet Present?', 'System Configuration Present?', 'Data Description Present?', 'Framework'], axis = 1)"
   ]
  },
  {
   "cell_type": "code",
   "execution_count": 252,
   "metadata": {},
   "outputs": [],
   "source": [
    "# Replace Training Bug with value T, Model bug with value M, API bug with value A, Tensor & Input Bug with value I, and GPU Bug with value G\n",
    "df.loc[df['Type of Bug'] == 'Training Bug', 'Type of Bug'] = 'T'\n",
    "df.loc[df['Type of Bug'] == 'Model Bug', 'Type of Bug'] = 'M'\n",
    "df.loc[df['Type of Bug'] == 'API Bug', 'Type of Bug'] = 'A'\n",
    "df.loc[df['Type of Bug'] == 'Tensor and Input Bug', 'Type of Bug'] = 'I'\n",
    "df.loc[df['Type of Bug'] == 'GPU Bug', 'Type of Bug'] = 'G'\n",
    "df.loc[df['Type of Bug'] == 'Mixed Bug', 'Type of Bug'] = 'X'"
   ]
  },
  {
   "cell_type": "code",
   "execution_count": 253,
   "metadata": {},
   "outputs": [],
   "source": [
    "# Map values from new columns as the following:\n",
    "# Input Data Generation: D \n",
    "# Neural Network Definition: N\n",
    "# Obsolete Parameter Removal: O\n",
    "# Framework Migration: F\n",
    "# Dataset Procurement: P\n",
    "# Models and Tokenizers: M\n",
    "# Logging: L\n",
    "# Import Addition and Dependency Resolution: R\n",
    "# Compiler Error Resolution: C\n",
    "# Hyperparameter Initialization: H\n",
    "\n",
    "# Replace all 1's with the corresponding letter\n",
    "df['Input Data Generation'] = df['Input Data Generation'].replace(1, 'D')\n",
    "df['Neural Network Definition'] = df['Neural Network Definition'].replace(1, 'N')\n",
    "df['Obsolete Parameter Removal'] = df['Obsolete Parameter Removal'].replace(1, 'O')\n",
    "df['Framework Migration'] = df['Framework Migration'].replace(1, 'F')\n",
    "df['Dataset Procurement'] = df['Dataset Procurement'].replace(1, 'P')\n",
    "df['Downloading Models and Tokenizers'] = df['Downloading Models and Tokenizers'].replace(1, 'M')\n",
    "df['Logging'] = df['Logging'].replace(1, 'L')\n",
    "df['Import Addition and Dependency Resolution'] = df['Import Addition and Dependency Resolution'].replace(1, 'R')\n",
    "df['Compiler Error Resolution'] = df['Compiler Error Resolution'].replace(1, 'C')\n",
    "df['Hyperparameter Initialization'] = df['Hyperparameter Initialization'].replace(1, 'H')\n",
    "\n",
    "\n",
    "df['Input Data Generation'] = df['Input Data Generation'].replace(0, '')\n",
    "df['Neural Network Definition'] = df['Neural Network Definition'].replace(0, '')\n",
    "df['Obsolete Parameter Removal'] = df['Obsolete Parameter Removal'].replace(0, '')\n",
    "df['Framework Migration'] = df['Framework Migration'].replace(0, '')\n",
    "df['Dataset Procurement'] = df['Dataset Procurement'].replace(0, '')\n",
    "df['Downloading Models and Tokenizers'] = df['Downloading Models and Tokenizers'].replace(0, '')\n",
    "df['Logging'] = df['Logging'].replace(0, '')\n",
    "df['Import Addition and Dependency Resolution'] = df['Import Addition and Dependency Resolution'].replace(0, '')\n",
    "df['Compiler Error Resolution'] = df['Compiler Error Resolution'].replace(0, '')\n",
    "df['Hyperparameter Initialization'] = df['Hyperparameter Initialization'].replace(0, '')"
   ]
  },
  {
   "cell_type": "code",
   "execution_count": 281,
   "metadata": {},
   "outputs": [],
   "source": [
    "training_bugs = df[df['Type of Bug'] == 'T']\n",
    "gpu_bugs = df[df['Type of Bug'] == 'G']\n",
    "api_bugs = df[df['Type of Bug'] == 'A']\n",
    "model_bugs = df[df['Type of Bug'] == 'M']\n",
    "tensor_bugs = df[df['Type of Bug'] == 'I']\n",
    "mixed_bugs = df[df['Type of Bug'] == 'X']\n",
    "\n",
    "training_transactions = []\n",
    "for i in range(0, len(training_bugs)):\n",
    "    training_transactions.append([str(training_bugs.values[i,j]) for j in range(0, len(training_bugs.columns)) if str(training_bugs.values[i,j]) != ''])\n",
    "\n",
    "gpu_transactions = []\n",
    "for i in range(0, len(gpu_bugs)):\n",
    "    gpu_transactions.append([str(gpu_bugs.values[i,j]) for j in range(0, len(gpu_bugs.columns)) if str(gpu_bugs.values[i,j]) != ''])\n",
    "\n",
    "api_transactions = []\n",
    "for i in range(0, len(api_bugs)):\n",
    "    api_transactions.append([str(api_bugs.values[i,j]) for j in range(0, len(api_bugs.columns)) if str(api_bugs.values[i,j]) != ''])\n",
    "\n",
    "model_transactions = []\n",
    "for i in range(0, len(model_bugs)):\n",
    "    model_transactions.append([str(model_bugs.values[i,j]) for j in range(0, len(model_bugs.columns)) if str(model_bugs.values[i,j]) != ''])\n",
    "\n",
    "tensor_transactions = []\n",
    "for i in range(0, len(tensor_bugs)):\n",
    "    tensor_transactions.append([str(tensor_bugs.values[i,j]) for j in range(0, len(tensor_bugs.columns)) if str(tensor_bugs.values[i,j]) != ''])\n",
    "\n",
    "mixed_transactions = []\n",
    "for i in range(0, len(mixed_bugs)):\n",
    "    mixed_transactions.append([str(mixed_bugs.values[i,j]) for j in range(0, len(mixed_bugs.columns)) if str(mixed_bugs.values[i,j]) != ''])"
   ]
  },
  {
   "cell_type": "code",
   "execution_count": 297,
   "metadata": {},
   "outputs": [],
   "source": [
    "def get_apriori_results(rules, character):\n",
    "    for result in list(rules):\n",
    "     if character in result.items:\n",
    "        items = \", \".join(result.items)\n",
    "        support = result.support\n",
    "        print(f\"Items: {{{items}}}\")\n",
    "        print(f\"Support: {support:.4f}\")\n",
    "        if result.ordered_statistics:\n",
    "            print(\"Association Rules:\")\n",
    "            for rule in result.ordered_statistics:\n",
    "                if character in rule.items_base:\n",
    "                    antecedent = \", \".join(rule.items_base)\n",
    "                    consequent = \", \".join(rule.items_add)\n",
    "                    confidence = rule.confidence\n",
    "                    lift = rule.lift\n",
    "                    print(f\"  {{{antecedent}}} => {{{consequent}}}\")\n",
    "                    print(f\"Confidence: {confidence:.4f}\")"
   ]
  },
  {
   "cell_type": "code",
   "execution_count": 298,
   "metadata": {},
   "outputs": [
    {
     "name": "stdout",
     "output_type": "stream",
     "text": [
      "Items: {T}\n",
      "Support: 1.0000\n",
      "Association Rules:\n",
      "Items: {C, T}\n",
      "Support: 0.2692\n",
      "Association Rules:\n",
      "  {T} => {C}\n",
      "Confidence: 0.2692\n",
      "Items: {T, D}\n",
      "Support: 0.6154\n",
      "Association Rules:\n",
      "  {T} => {D}\n",
      "Confidence: 0.6154\n",
      "Items: {F, T}\n",
      "Support: 0.3462\n",
      "Association Rules:\n",
      "  {T} => {F}\n",
      "Confidence: 0.3462\n",
      "Items: {T, H}\n",
      "Support: 0.3077\n",
      "Association Rules:\n",
      "  {T} => {H}\n",
      "Confidence: 0.3077\n",
      "Items: {T, L}\n",
      "Support: 0.2692\n",
      "Association Rules:\n",
      "  {T} => {L}\n",
      "Confidence: 0.2692\n",
      "Items: {T, N}\n",
      "Support: 0.1154\n",
      "Association Rules:\n",
      "  {T} => {N}\n",
      "Confidence: 0.1154\n",
      "Items: {T, O}\n",
      "Support: 0.1538\n",
      "Association Rules:\n",
      "  {T} => {O}\n",
      "Confidence: 0.1538\n",
      "Items: {P, T}\n",
      "Support: 0.2692\n",
      "Association Rules:\n",
      "  {T} => {P}\n",
      "Confidence: 0.2692\n",
      "Items: {R, T}\n",
      "Support: 0.4231\n",
      "Association Rules:\n",
      "  {T} => {R}\n",
      "Confidence: 0.4231\n"
     ]
    }
   ],
   "source": [
    "get_apriori_results(apriori(training_transactions, max_length = 2), 'T')"
   ]
  },
  {
   "cell_type": "code",
   "execution_count": 299,
   "metadata": {},
   "outputs": [
    {
     "name": "stdout",
     "output_type": "stream",
     "text": [
      "Items: {M}\n",
      "Support: 1.0000\n",
      "Association Rules:\n",
      "Items: {C, M}\n",
      "Support: 0.3000\n",
      "Association Rules:\n",
      "  {M} => {C}\n",
      "Confidence: 0.3000\n",
      "Items: {M, D}\n",
      "Support: 0.3500\n",
      "Association Rules:\n",
      "  {M} => {D}\n",
      "Confidence: 0.3500\n",
      "Items: {F, M}\n",
      "Support: 0.2000\n",
      "Association Rules:\n",
      "  {M} => {F}\n",
      "Confidence: 0.2000\n",
      "Items: {M, H}\n",
      "Support: 0.5000\n",
      "Association Rules:\n",
      "  {M} => {H}\n",
      "Confidence: 0.5000\n",
      "Items: {L, M}\n",
      "Support: 0.4500\n",
      "Association Rules:\n",
      "  {M} => {L}\n",
      "Confidence: 0.4500\n",
      "Items: {N, M}\n",
      "Support: 0.7500\n",
      "Association Rules:\n",
      "  {M} => {N}\n",
      "Confidence: 0.7500\n",
      "Items: {M, O}\n",
      "Support: 0.1500\n",
      "Association Rules:\n",
      "  {M} => {O}\n",
      "Confidence: 0.1500\n",
      "Items: {P, M}\n",
      "Support: 0.4000\n",
      "Association Rules:\n",
      "  {M} => {P}\n",
      "Confidence: 0.4000\n",
      "Items: {R, M}\n",
      "Support: 0.5500\n",
      "Association Rules:\n",
      "  {M} => {R}\n",
      "Confidence: 0.5500\n"
     ]
    }
   ],
   "source": [
    "get_apriori_results(apriori(model_transactions, max_length = 2), 'M')"
   ]
  },
  {
   "cell_type": "code",
   "execution_count": 300,
   "metadata": {},
   "outputs": [
    {
     "name": "stdout",
     "output_type": "stream",
     "text": [
      "Items: {G}\n",
      "Support: 1.0000\n",
      "Association Rules:\n"
     ]
    }
   ],
   "source": [
    "get_apriori_results(apriori(gpu_transactions, max_length = 2), 'G')"
   ]
  },
  {
   "cell_type": "code",
   "execution_count": 301,
   "metadata": {},
   "outputs": [
    {
     "name": "stdout",
     "output_type": "stream",
     "text": [
      "Items: {I}\n",
      "Support: 1.0000\n",
      "Association Rules:\n",
      "Items: {C, I}\n",
      "Support: 0.3333\n",
      "Association Rules:\n",
      "  {I} => {C}\n",
      "Confidence: 0.3333\n",
      "Items: {D, I}\n",
      "Support: 0.5714\n",
      "Association Rules:\n",
      "  {I} => {D}\n",
      "Confidence: 0.5714\n",
      "Items: {I, H}\n",
      "Support: 0.5238\n",
      "Association Rules:\n",
      "  {I} => {H}\n",
      "Confidence: 0.5238\n",
      "Items: {L, I}\n",
      "Support: 0.4286\n",
      "Association Rules:\n",
      "  {I} => {L}\n",
      "Confidence: 0.4286\n",
      "Items: {I, O}\n",
      "Support: 0.3333\n",
      "Association Rules:\n",
      "  {I} => {O}\n",
      "Confidence: 0.3333\n",
      "Items: {P, I}\n",
      "Support: 0.1905\n",
      "Association Rules:\n",
      "  {I} => {P}\n",
      "Confidence: 0.1905\n",
      "Items: {R, I}\n",
      "Support: 0.4762\n",
      "Association Rules:\n",
      "  {I} => {R}\n",
      "Confidence: 0.4762\n"
     ]
    }
   ],
   "source": [
    "get_apriori_results(apriori(tensor_transactions, max_length = 2), 'I')"
   ]
  },
  {
   "cell_type": "code",
   "execution_count": 302,
   "metadata": {},
   "outputs": [
    {
     "name": "stdout",
     "output_type": "stream",
     "text": [
      "Items: {X}\n",
      "Support: 1.0000\n",
      "Association Rules:\n",
      "Items: {C, X}\n",
      "Support: 0.5000\n",
      "Association Rules:\n",
      "  {X} => {C}\n",
      "Confidence: 0.5000\n",
      "Items: {X, D}\n",
      "Support: 0.7500\n",
      "Association Rules:\n",
      "  {X} => {D}\n",
      "Confidence: 0.7500\n",
      "Items: {F, X}\n",
      "Support: 0.2500\n",
      "Association Rules:\n",
      "  {X} => {F}\n",
      "Confidence: 0.2500\n",
      "Items: {X, H}\n",
      "Support: 1.0000\n",
      "Association Rules:\n",
      "  {X} => {H}\n",
      "Confidence: 1.0000\n",
      "Items: {N, X}\n",
      "Support: 0.2500\n",
      "Association Rules:\n",
      "  {X} => {N}\n",
      "Confidence: 0.2500\n",
      "Items: {P, X}\n",
      "Support: 0.2500\n",
      "Association Rules:\n",
      "  {X} => {P}\n",
      "Confidence: 0.2500\n",
      "Items: {R, X}\n",
      "Support: 0.7500\n",
      "Association Rules:\n",
      "  {X} => {R}\n",
      "Confidence: 0.7500\n"
     ]
    }
   ],
   "source": [
    "get_apriori_results(apriori(mixed_transactions, max_length = 2), 'X')"
   ]
  }
 ],
 "metadata": {
  "kernelspec": {
   "display_name": "venv",
   "language": "python",
   "name": "python3"
  },
  "language_info": {
   "codemirror_mode": {
    "name": "ipython",
    "version": 3
   },
   "file_extension": ".py",
   "mimetype": "text/x-python",
   "name": "python",
   "nbconvert_exporter": "python",
   "pygments_lexer": "ipython3",
   "version": "3.10.4"
  },
  "orig_nbformat": 4
 },
 "nbformat": 4,
 "nbformat_minor": 2
}
